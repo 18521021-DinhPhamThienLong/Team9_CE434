{
  "nbformat": 4,
  "nbformat_minor": 0,
  "metadata": {
    "colab": {
      "name": "Vietnames_food_Classification.ipynb",
      "provenance": [],
      "collapsed_sections": [],
      "toc_visible": true
    },
    "kernelspec": {
      "name": "python385jvsc74a57bd031f2aee4e71d21fbe5cf8b01ff0e069b9275f58929596ceb00d14d90e3e16cd6",
      "display_name": "Python 3.8.5 64-bit ('usr')"
    },
    "language_info": {
      "codemirror_mode": {
        "name": "ipython",
        "version": 3
      },
      "file_extension": ".py",
      "mimetype": "text/x-python",
      "name": "python",
      "nbconvert_exporter": "python",
      "pygments_lexer": "ipython3",
      "version": "3.8.5"
    },
    "metadata": {
      "interpreter": {
        "hash": "31f2aee4e71d21fbe5cf8b01ff0e069b9275f58929596ceb00d14d90e3e16cd6"
      }
    },
    "accelerator": "GPU"
  },
  "cells": [
    {
      "cell_type": "markdown",
      "metadata": {
        "id": "Dh_uVcAuTUJK"
      },
      "source": [
        "# **Hiện thực hệ thống phân loại món ăn truyền thống của Việt Nam sử dụng VGG16**\n",
        "## **CE434.L21**\n",
        "\n",
        "## **GVHD: Tran Van Cuong**\n",
        "\n",
        "### *Dinh Pham Thien Long - 18521012*\n",
        "### *Nguyen Thi Ngoc Diem - 18520597*\n",
        "### *Chuong Sec Vay       - 17521252*"
      ]
    },
    {
      "cell_type": "code",
      "metadata": {
        "colab": {
          "base_uri": "https://localhost:8080/"
        },
        "id": "k-WBAhUy4mEX",
        "outputId": "13087a98-95ec-4e5b-f351-2349b9fcd8d6"
      },
      "source": [
        "from google.colab import drive\n",
        "drive.mount('/content/drive')\n",
        "%cd /content/drive/MyDrive/COLAB_Machine Learning/Vietnames_food_Classification"
      ],
      "execution_count": 125,
      "outputs": [
        {
          "output_type": "stream",
          "text": [
            "Drive already mounted at /content/drive; to attempt to forcibly remount, call drive.mount(\"/content/drive\", force_remount=True).\n",
            "/content/drive/MyDrive/COLAB_Machine Learning/Vietnames_food_Classification\n"
          ],
          "name": "stdout"
        }
      ]
    },
    {
      "cell_type": "code",
      "metadata": {
        "colab": {
          "base_uri": "https://localhost:8080/",
          "height": 35
        },
        "id": "4aCHlmqkxuN9",
        "outputId": "038a8948-8a29-45bb-e3a4-c482f340524b"
      },
      "source": [
        "import tensorflow as tf\n",
        "import warnings\n",
        "tf.__version__"
      ],
      "execution_count": 126,
      "outputs": [
        {
          "output_type": "execute_result",
          "data": {
            "application/vnd.google.colaboratory.intrinsic+json": {
              "type": "string"
            },
            "text/plain": [
              "'2.4.1'"
            ]
          },
          "metadata": {
            "tags": []
          },
          "execution_count": 126
        }
      ]
    },
    {
      "cell_type": "code",
      "metadata": {
        "colab": {
          "base_uri": "https://localhost:8080/"
        },
        "id": "gfC_xUeUbHIu",
        "outputId": "2dcd9c22-bd83-48d0-d4df-18a54dd0f1ba"
      },
      "source": [
        "# Kiểm tra GPU trong máy\n",
        "# tf.config.list_physical_devices('GPU')\n",
        "if not tf.test.gpu_device_name():\n",
        "    warnings.warn('No GPU found. Please ensure you have installed TensorFlow correctly')\n",
        "else:\n",
        "    print('Default GPU Device: {}'.format(tf.test.gpu_device_name()))"
      ],
      "execution_count": 127,
      "outputs": [
        {
          "output_type": "stream",
          "text": [
            "Default GPU Device: /device:GPU:0\n"
          ],
          "name": "stdout"
        }
      ]
    },
    {
      "cell_type": "code",
      "metadata": {
        "id": "GLkpmjpqzaC5"
      },
      "source": [
        "TRAIN_PATH = '/content/drive/MyDrive/COLAB_Machine Learning/Vietnames_food_Classification/data/Train'\n",
        "TEST_PATH = '/content/drive/MyDrive/COLAB_Machine Learning/Vietnames_food_Classification/data/Test'\n",
        "VALID_PATH = '/content/drive/MyDrive/COLAB_Machine Learning/Vietnames_food_Classification/data/Validate'\n",
        "MODELS_PATH = '/content/drive/MyDrive/COLAB_Machine Learning/Vietnames_food_Classification/model/'\n",
        "VISUALIZE_PATH = '/content/drive/MyDrive/COLAB_Machine Learning/Vietnames_food_Classification/visualize/'\n",
        "TEST_IMAGE = '/content/drive/MyDrive/COLAB_Machine Learning/Vietnames_food_Classification/pho.jpg'\n",
        "WIDTH = 224\n",
        "HEIGHT = 224\n",
        "EPOCHS = 20\n",
        "BATCH_SIZE = 32"
      ],
      "execution_count": 220,
      "outputs": []
    },
    {
      "cell_type": "markdown",
      "metadata": {
        "id": "S9iyXgrqypK9"
      },
      "source": [
        "## **1. Đọc dữ liệu**\n",
        "\n",
        "\n"
      ]
    },
    {
      "cell_type": "code",
      "metadata": {
        "id": "pwazlOBFx4QA"
      },
      "source": [
        "from tensorflow.keras.preprocessing import image\n",
        "train_generator = image.ImageDataGenerator(\n",
        "    rescale = 1./255,  \n",
        "    width_shift_range = 0.2, \n",
        "    height_shift_range = 0.2,\n",
        "    zoom_range = 0.2,\n",
        "    rotation_range = 15\n",
        ")\n",
        "test_generator = image.ImageDataGenerator(\n",
        "    rescale = 1./255,    \n",
        "    width_shift_range = 0.2, \n",
        "    height_shift_range = 0.2,\n",
        "    zoom_range = 0.2,\n",
        "    rotation_range = 15\n",
        ")\n",
        "valid_generator = image.ImageDataGenerator(\n",
        "    rescale = 1./255,\n",
        "    width_shift_range = 0.2,\n",
        "    height_shift_range = 0.2,\n",
        "    zoom_range = 0.2,\n",
        "    rotation_range = 15\n",
        ")"
      ],
      "execution_count": 130,
      "outputs": []
    },
    {
      "cell_type": "code",
      "metadata": {
        "colab": {
          "base_uri": "https://localhost:8080/"
        },
        "id": "hzpa49VfyGz_",
        "outputId": "21d8bd8f-8211-4862-e5e1-f4cb5ff1bc51"
      },
      "source": [
        "generated_train_data = train_generator.flow_from_directory(\n",
        "    TRAIN_PATH,\n",
        "    target_size = (WIDTH, HEIGHT),\n",
        "    batch_size = BATCH_SIZE,\n",
        "    class_mode = 'categorical',\n",
        "    shuffle = True, \n",
        "    seed=42\n",
        ")"
      ],
      "execution_count": 131,
      "outputs": [
        {
          "output_type": "stream",
          "text": [
            "Found 1499 images belonging to 2 classes.\n"
          ],
          "name": "stdout"
        }
      ]
    },
    {
      "cell_type": "code",
      "metadata": {
        "colab": {
          "base_uri": "https://localhost:8080/"
        },
        "id": "903dEfcjyJcS",
        "outputId": "828eac4a-3e6a-4fe6-b54f-f9f72594f43e"
      },
      "source": [
        "generated_valid_data = valid_generator.flow_from_directory(\n",
        "    VALID_PATH,\n",
        "    target_size = (WIDTH, HEIGHT),\n",
        "    batch_size = BATCH_SIZE,\n",
        "    class_mode = 'categorical',\n",
        "    shuffle = True,\n",
        "    seed=42\n",
        ")"
      ],
      "execution_count": 132,
      "outputs": [
        {
          "output_type": "stream",
          "text": [
            "Found 214 images belonging to 2 classes.\n"
          ],
          "name": "stdout"
        }
      ]
    },
    {
      "cell_type": "code",
      "metadata": {
        "colab": {
          "base_uri": "https://localhost:8080/"
        },
        "id": "BNWds2OvyLDw",
        "outputId": "f0cef412-bc9c-4511-a20a-66e25b50e95c"
      },
      "source": [
        "generated_test_data = test_generator.flow_from_directory(\n",
        "    TEST_PATH,\n",
        "    target_size = (WIDTH, HEIGHT),\n",
        "    class_mode = 'categorical',\n",
        "    shuffle = False,\n",
        ")"
      ],
      "execution_count": 133,
      "outputs": [
        {
          "output_type": "stream",
          "text": [
            "Found 430 images belonging to 2 classes.\n"
          ],
          "name": "stdout"
        }
      ]
    },
    {
      "cell_type": "markdown",
      "metadata": {
        "id": "Au8QgUnR0Y74"
      },
      "source": [
        "## **2. Thiết lập model**\n",
        "\n",
        "Ở phần này, nhóm chúng em sử dụng kỹ thuật Transfer Learning để giảm thời gian train cũng như mang lại được hiệu quả hơn"
      ]
    },
    {
      "cell_type": "code",
      "metadata": {
        "id": "q3B0N5pW0bfg"
      },
      "source": [
        "import os\n",
        "import numpy as np\n",
        "import pandas as pd\n",
        "import matplotlib.pyplot as plt\n",
        "from tensorflow.keras.models import Sequential\n",
        "from tensorflow.keras.layers import Conv2D, BatchNormalization, MaxPooling2D, Flatten, Dense, Dropout, Input\n",
        "from keras.applications.vgg16 import VGG16\n",
        "from keras.models import Model\n",
        "from keras.preprocessing.image import ImageDataGenerator"
      ],
      "execution_count": 134,
      "outputs": []
    },
    {
      "cell_type": "code",
      "metadata": {
        "id": "-UTnSNcsDb2p"
      },
      "source": [
        "pre_trained_model = VGG16(input_shape = (WIDTH, HEIGHT, 3), include_top = False, weights = 'imagenet')"
      ],
      "execution_count": 136,
      "outputs": []
    },
    {
      "cell_type": "code",
      "metadata": {
        "id": "BasLVpqGDfKp"
      },
      "source": [
        "# Dong bang cac layer\n",
        "for layer in pre_trained_model.layers:\n",
        "      layer.trainable = False\n",
        "\n",
        "# Tao model\n",
        "input = Input(shape=(WIDTH, HEIGHT, 3), name='image_input')\n",
        "output_vgg16_conv = pre_trained_model(input)\n",
        "\n",
        "# Them cac layer FC va Dropout\n",
        "x = Flatten(name='flatten')(output_vgg16_conv)\n",
        "x = Dense(4096, activation='relu', name='fc1')(x)\n",
        "x = Dropout(0.5)(x)\n",
        "x = Dense(4096, activation='relu', name='fc2')(x)\n",
        "x = Dropout(0.5)(x)\n",
        "x = Dense(2, activation='softmax', name='predictions')(x)"
      ],
      "execution_count": 137,
      "outputs": []
    },
    {
      "cell_type": "code",
      "metadata": {
        "id": "XGm9hKKxIaBU"
      },
      "source": [
        "# Compile\n",
        "from tensorflow.keras.optimizers import Adam\n",
        "my_model = Model(inputs=input, outputs=x)\n",
        "my_model.compile(optimizer = Adam(lr = 1e-5), loss = 'categorical_crossentropy', metrics = ['accuracy'])"
      ],
      "execution_count": 138,
      "outputs": []
    },
    {
      "cell_type": "code",
      "metadata": {
        "colab": {
          "base_uri": "https://localhost:8080/"
        },
        "id": "CnLOZFmBKBXJ",
        "outputId": "1f5848e4-cc15-4c0a-f427-dd2caae686cd"
      },
      "source": [
        "vgg16_history = my_model.fit(\n",
        "    generated_train_data, \n",
        "    validation_data = generated_valid_data,\n",
        "    validation_steps = generated_valid_data.n // BATCH_SIZE,\n",
        "    steps_per_epoch = generated_train_data.n  // BATCH_SIZE,\n",
        "    epochs = EPOCHS,\n",
        "    verbose = 1\n",
        ")\n",
        "my_model.save(MODELS_PATH + 'vgg16.h5')"
      ],
      "execution_count": 139,
      "outputs": [
        {
          "output_type": "stream",
          "text": [
            "Epoch 1/20\n",
            "46/46 [==============================] - 47s 1s/step - loss: 0.6637 - accuracy: 0.6704 - val_loss: 0.2344 - val_accuracy: 0.9062\n",
            "Epoch 2/20\n",
            "46/46 [==============================] - 46s 989ms/step - loss: 0.3055 - accuracy: 0.8667 - val_loss: 0.2052 - val_accuracy: 0.9271\n",
            "Epoch 3/20\n",
            "46/46 [==============================] - 45s 988ms/step - loss: 0.2227 - accuracy: 0.9126 - val_loss: 0.1802 - val_accuracy: 0.9219\n",
            "Epoch 4/20\n",
            "46/46 [==============================] - 46s 989ms/step - loss: 0.1637 - accuracy: 0.9297 - val_loss: 0.1836 - val_accuracy: 0.9271\n",
            "Epoch 5/20\n",
            "46/46 [==============================] - 46s 997ms/step - loss: 0.1564 - accuracy: 0.9469 - val_loss: 0.1302 - val_accuracy: 0.9531\n",
            "Epoch 6/20\n",
            "46/46 [==============================] - 47s 1s/step - loss: 0.1572 - accuracy: 0.9411 - val_loss: 0.1427 - val_accuracy: 0.9427\n",
            "Epoch 7/20\n",
            "46/46 [==============================] - 46s 999ms/step - loss: 0.1264 - accuracy: 0.9539 - val_loss: 0.1112 - val_accuracy: 0.9479\n",
            "Epoch 8/20\n",
            "46/46 [==============================] - 45s 988ms/step - loss: 0.1336 - accuracy: 0.9457 - val_loss: 0.1701 - val_accuracy: 0.9583\n",
            "Epoch 9/20\n",
            "46/46 [==============================] - 46s 996ms/step - loss: 0.1096 - accuracy: 0.9595 - val_loss: 0.1209 - val_accuracy: 0.9531\n",
            "Epoch 10/20\n",
            "46/46 [==============================] - 46s 997ms/step - loss: 0.0999 - accuracy: 0.9655 - val_loss: 0.1751 - val_accuracy: 0.9271\n",
            "Epoch 11/20\n",
            "46/46 [==============================] - 46s 990ms/step - loss: 0.1113 - accuracy: 0.9589 - val_loss: 0.1061 - val_accuracy: 0.9427\n",
            "Epoch 12/20\n",
            "46/46 [==============================] - 46s 992ms/step - loss: 0.1068 - accuracy: 0.9611 - val_loss: 0.1132 - val_accuracy: 0.9479\n",
            "Epoch 13/20\n",
            "46/46 [==============================] - 46s 993ms/step - loss: 0.1153 - accuracy: 0.9590 - val_loss: 0.1119 - val_accuracy: 0.9531\n",
            "Epoch 14/20\n",
            "46/46 [==============================] - 46s 992ms/step - loss: 0.0973 - accuracy: 0.9636 - val_loss: 0.1254 - val_accuracy: 0.9479\n",
            "Epoch 15/20\n",
            "46/46 [==============================] - 45s 979ms/step - loss: 0.1063 - accuracy: 0.9634 - val_loss: 0.0871 - val_accuracy: 0.9688\n",
            "Epoch 16/20\n",
            "46/46 [==============================] - 45s 981ms/step - loss: 0.0878 - accuracy: 0.9679 - val_loss: 0.1620 - val_accuracy: 0.9323\n",
            "Epoch 17/20\n",
            "46/46 [==============================] - 46s 997ms/step - loss: 0.0657 - accuracy: 0.9768 - val_loss: 0.1303 - val_accuracy: 0.9688\n",
            "Epoch 18/20\n",
            "46/46 [==============================] - 45s 983ms/step - loss: 0.0810 - accuracy: 0.9673 - val_loss: 0.1104 - val_accuracy: 0.9740\n",
            "Epoch 19/20\n",
            "46/46 [==============================] - 45s 985ms/step - loss: 0.0699 - accuracy: 0.9771 - val_loss: 0.1190 - val_accuracy: 0.9479\n",
            "Epoch 20/20\n",
            "46/46 [==============================] - 46s 995ms/step - loss: 0.0577 - accuracy: 0.9785 - val_loss: 0.1249 - val_accuracy: 0.9635\n"
          ],
          "name": "stdout"
        }
      ]
    },
    {
      "cell_type": "markdown",
      "metadata": {
        "id": "Ge1GPQWcV922"
      },
      "source": [
        "## **3. Đánh giá model**\n",
        "\n",
        "\n",
        "> ### *Accuracy*\n",
        "\n",
        "> ### *Precision, Recall, f1-score*\n",
        "\n",
        "\n",
        "\n",
        "\n"
      ]
    },
    {
      "cell_type": "code",
      "metadata": {
        "colab": {
          "base_uri": "https://localhost:8080/"
        },
        "id": "Qpt369g8tb0o",
        "outputId": "69bbc926-9234-4927-fef7-2ee7108c573e"
      },
      "source": [
        "y_test = generated_test_data.classes\n",
        "y_pred_vgg16 = my_model.predict(generated_test_data, verbose = 1) "
      ],
      "execution_count": 140,
      "outputs": [
        {
          "output_type": "stream",
          "text": [
            "14/14 [==============================] - 16s 1s/step\n"
          ],
          "name": "stdout"
        }
      ]
    },
    {
      "cell_type": "code",
      "metadata": {
        "colab": {
          "base_uri": "https://localhost:8080/"
        },
        "id": "Wc9ARRxYGdIi",
        "outputId": "841ed216-05be-4c99-e8dc-609d35d3429a"
      },
      "source": [
        "generated_train_data.class_indices.items()"
      ],
      "execution_count": 163,
      "outputs": [
        {
          "output_type": "execute_result",
          "data": {
            "text/plain": [
              "dict_items([('Banh mi', 0), ('Pho', 1)])"
            ]
          },
          "metadata": {
            "tags": []
          },
          "execution_count": 163
        }
      ]
    },
    {
      "cell_type": "code",
      "metadata": {
        "colab": {
          "base_uri": "https://localhost:8080/",
          "height": 669
        },
        "id": "ZClkD-JIxkLr",
        "outputId": "84f32b1f-7b57-4ac1-ca43-1427fbbdd652"
      },
      "source": [
        "df = pd.DataFrame({\n",
        "    'Actual'     : generated_test_data.filenames, \n",
        "    'VGG16 prediction' : np.argmax(y_pred_vgg16, axis=1)\n",
        "})  \n",
        "df.head(20)"
      ],
      "execution_count": 169,
      "outputs": [
        {
          "output_type": "execute_result",
          "data": {
            "text/html": [
              "<div>\n",
              "<style scoped>\n",
              "    .dataframe tbody tr th:only-of-type {\n",
              "        vertical-align: middle;\n",
              "    }\n",
              "\n",
              "    .dataframe tbody tr th {\n",
              "        vertical-align: top;\n",
              "    }\n",
              "\n",
              "    .dataframe thead th {\n",
              "        text-align: right;\n",
              "    }\n",
              "</style>\n",
              "<table border=\"1\" class=\"dataframe\">\n",
              "  <thead>\n",
              "    <tr style=\"text-align: right;\">\n",
              "      <th></th>\n",
              "      <th>Actual</th>\n",
              "      <th>VGG16 prediction</th>\n",
              "    </tr>\n",
              "  </thead>\n",
              "  <tbody>\n",
              "    <tr>\n",
              "      <th>0</th>\n",
              "      <td>Banh mi/1006.jpg</td>\n",
              "      <td>1</td>\n",
              "    </tr>\n",
              "    <tr>\n",
              "      <th>1</th>\n",
              "      <td>Banh mi/1010.jpg</td>\n",
              "      <td>1</td>\n",
              "    </tr>\n",
              "    <tr>\n",
              "      <th>2</th>\n",
              "      <td>Banh mi/1011.jpg</td>\n",
              "      <td>0</td>\n",
              "    </tr>\n",
              "    <tr>\n",
              "      <th>3</th>\n",
              "      <td>Banh mi/1013.jpg</td>\n",
              "      <td>0</td>\n",
              "    </tr>\n",
              "    <tr>\n",
              "      <th>4</th>\n",
              "      <td>Banh mi/1014.jpg</td>\n",
              "      <td>0</td>\n",
              "    </tr>\n",
              "    <tr>\n",
              "      <th>5</th>\n",
              "      <td>Banh mi/102.jpg</td>\n",
              "      <td>0</td>\n",
              "    </tr>\n",
              "    <tr>\n",
              "      <th>6</th>\n",
              "      <td>Banh mi/1020.jpg</td>\n",
              "      <td>0</td>\n",
              "    </tr>\n",
              "    <tr>\n",
              "      <th>7</th>\n",
              "      <td>Banh mi/1021.jpg</td>\n",
              "      <td>0</td>\n",
              "    </tr>\n",
              "    <tr>\n",
              "      <th>8</th>\n",
              "      <td>Banh mi/1024.jpg</td>\n",
              "      <td>0</td>\n",
              "    </tr>\n",
              "    <tr>\n",
              "      <th>9</th>\n",
              "      <td>Banh mi/1025.jpg</td>\n",
              "      <td>0</td>\n",
              "    </tr>\n",
              "    <tr>\n",
              "      <th>10</th>\n",
              "      <td>Banh mi/1027.jpg</td>\n",
              "      <td>0</td>\n",
              "    </tr>\n",
              "    <tr>\n",
              "      <th>11</th>\n",
              "      <td>Banh mi/1030.jpg</td>\n",
              "      <td>0</td>\n",
              "    </tr>\n",
              "    <tr>\n",
              "      <th>12</th>\n",
              "      <td>Banh mi/1038.jpg</td>\n",
              "      <td>0</td>\n",
              "    </tr>\n",
              "    <tr>\n",
              "      <th>13</th>\n",
              "      <td>Banh mi/104.jpg</td>\n",
              "      <td>0</td>\n",
              "    </tr>\n",
              "    <tr>\n",
              "      <th>14</th>\n",
              "      <td>Banh mi/1043.jpg</td>\n",
              "      <td>1</td>\n",
              "    </tr>\n",
              "    <tr>\n",
              "      <th>15</th>\n",
              "      <td>Banh mi/1045.jpg</td>\n",
              "      <td>0</td>\n",
              "    </tr>\n",
              "    <tr>\n",
              "      <th>16</th>\n",
              "      <td>Banh mi/1050.jpg</td>\n",
              "      <td>0</td>\n",
              "    </tr>\n",
              "    <tr>\n",
              "      <th>17</th>\n",
              "      <td>Banh mi/1058.jpg</td>\n",
              "      <td>0</td>\n",
              "    </tr>\n",
              "    <tr>\n",
              "      <th>18</th>\n",
              "      <td>Banh mi/107.jpg</td>\n",
              "      <td>0</td>\n",
              "    </tr>\n",
              "    <tr>\n",
              "      <th>19</th>\n",
              "      <td>Banh mi/1073.jpg</td>\n",
              "      <td>0</td>\n",
              "    </tr>\n",
              "  </tbody>\n",
              "</table>\n",
              "</div>"
            ],
            "text/plain": [
              "              Actual  VGG16 prediction\n",
              "0   Banh mi/1006.jpg                 1\n",
              "1   Banh mi/1010.jpg                 1\n",
              "2   Banh mi/1011.jpg                 0\n",
              "3   Banh mi/1013.jpg                 0\n",
              "4   Banh mi/1014.jpg                 0\n",
              "5    Banh mi/102.jpg                 0\n",
              "6   Banh mi/1020.jpg                 0\n",
              "7   Banh mi/1021.jpg                 0\n",
              "8   Banh mi/1024.jpg                 0\n",
              "9   Banh mi/1025.jpg                 0\n",
              "10  Banh mi/1027.jpg                 0\n",
              "11  Banh mi/1030.jpg                 0\n",
              "12  Banh mi/1038.jpg                 0\n",
              "13   Banh mi/104.jpg                 0\n",
              "14  Banh mi/1043.jpg                 1\n",
              "15  Banh mi/1045.jpg                 0\n",
              "16  Banh mi/1050.jpg                 0\n",
              "17  Banh mi/1058.jpg                 0\n",
              "18   Banh mi/107.jpg                 0\n",
              "19  Banh mi/1073.jpg                 0"
            ]
          },
          "metadata": {
            "tags": []
          },
          "execution_count": 169
        }
      ]
    },
    {
      "cell_type": "code",
      "metadata": {
        "colab": {
          "base_uri": "https://localhost:8080/",
          "height": 669
        },
        "id": "VZNzIFcgxsgt",
        "outputId": "e35efcdd-e8af-4091-e484-c2df42801771"
      },
      "source": [
        "df.tail(20)"
      ],
      "execution_count": 170,
      "outputs": [
        {
          "output_type": "execute_result",
          "data": {
            "text/html": [
              "<div>\n",
              "<style scoped>\n",
              "    .dataframe tbody tr th:only-of-type {\n",
              "        vertical-align: middle;\n",
              "    }\n",
              "\n",
              "    .dataframe tbody tr th {\n",
              "        vertical-align: top;\n",
              "    }\n",
              "\n",
              "    .dataframe thead th {\n",
              "        text-align: right;\n",
              "    }\n",
              "</style>\n",
              "<table border=\"1\" class=\"dataframe\">\n",
              "  <thead>\n",
              "    <tr style=\"text-align: right;\">\n",
              "      <th></th>\n",
              "      <th>Actual</th>\n",
              "      <th>VGG16 prediction</th>\n",
              "    </tr>\n",
              "  </thead>\n",
              "  <tbody>\n",
              "    <tr>\n",
              "      <th>410</th>\n",
              "      <td>Pho/733.jpg</td>\n",
              "      <td>1</td>\n",
              "    </tr>\n",
              "    <tr>\n",
              "      <th>411</th>\n",
              "      <td>Pho/735.jpg</td>\n",
              "      <td>1</td>\n",
              "    </tr>\n",
              "    <tr>\n",
              "      <th>412</th>\n",
              "      <td>Pho/739.jpg</td>\n",
              "      <td>1</td>\n",
              "    </tr>\n",
              "    <tr>\n",
              "      <th>413</th>\n",
              "      <td>Pho/743.jpg</td>\n",
              "      <td>1</td>\n",
              "    </tr>\n",
              "    <tr>\n",
              "      <th>414</th>\n",
              "      <td>Pho/746.jpg</td>\n",
              "      <td>1</td>\n",
              "    </tr>\n",
              "    <tr>\n",
              "      <th>415</th>\n",
              "      <td>Pho/756.jpg</td>\n",
              "      <td>0</td>\n",
              "    </tr>\n",
              "    <tr>\n",
              "      <th>416</th>\n",
              "      <td>Pho/757.jpg</td>\n",
              "      <td>1</td>\n",
              "    </tr>\n",
              "    <tr>\n",
              "      <th>417</th>\n",
              "      <td>Pho/76.jpg</td>\n",
              "      <td>1</td>\n",
              "    </tr>\n",
              "    <tr>\n",
              "      <th>418</th>\n",
              "      <td>Pho/762.jpg</td>\n",
              "      <td>0</td>\n",
              "    </tr>\n",
              "    <tr>\n",
              "      <th>419</th>\n",
              "      <td>Pho/77.jpg</td>\n",
              "      <td>1</td>\n",
              "    </tr>\n",
              "    <tr>\n",
              "      <th>420</th>\n",
              "      <td>Pho/772.jpg</td>\n",
              "      <td>1</td>\n",
              "    </tr>\n",
              "    <tr>\n",
              "      <th>421</th>\n",
              "      <td>Pho/786.jpg</td>\n",
              "      <td>1</td>\n",
              "    </tr>\n",
              "    <tr>\n",
              "      <th>422</th>\n",
              "      <td>Pho/787.jpg</td>\n",
              "      <td>1</td>\n",
              "    </tr>\n",
              "    <tr>\n",
              "      <th>423</th>\n",
              "      <td>Pho/788.jpg</td>\n",
              "      <td>1</td>\n",
              "    </tr>\n",
              "    <tr>\n",
              "      <th>424</th>\n",
              "      <td>Pho/796.jpg</td>\n",
              "      <td>1</td>\n",
              "    </tr>\n",
              "    <tr>\n",
              "      <th>425</th>\n",
              "      <td>Pho/81.jpg</td>\n",
              "      <td>1</td>\n",
              "    </tr>\n",
              "    <tr>\n",
              "      <th>426</th>\n",
              "      <td>Pho/84.jpg</td>\n",
              "      <td>1</td>\n",
              "    </tr>\n",
              "    <tr>\n",
              "      <th>427</th>\n",
              "      <td>Pho/85.jpg</td>\n",
              "      <td>1</td>\n",
              "    </tr>\n",
              "    <tr>\n",
              "      <th>428</th>\n",
              "      <td>Pho/95.jpg</td>\n",
              "      <td>1</td>\n",
              "    </tr>\n",
              "    <tr>\n",
              "      <th>429</th>\n",
              "      <td>Pho/99.jpg</td>\n",
              "      <td>1</td>\n",
              "    </tr>\n",
              "  </tbody>\n",
              "</table>\n",
              "</div>"
            ],
            "text/plain": [
              "          Actual  VGG16 prediction\n",
              "410  Pho/733.jpg                 1\n",
              "411  Pho/735.jpg                 1\n",
              "412  Pho/739.jpg                 1\n",
              "413  Pho/743.jpg                 1\n",
              "414  Pho/746.jpg                 1\n",
              "415  Pho/756.jpg                 0\n",
              "416  Pho/757.jpg                 1\n",
              "417   Pho/76.jpg                 1\n",
              "418  Pho/762.jpg                 0\n",
              "419   Pho/77.jpg                 1\n",
              "420  Pho/772.jpg                 1\n",
              "421  Pho/786.jpg                 1\n",
              "422  Pho/787.jpg                 1\n",
              "423  Pho/788.jpg                 1\n",
              "424  Pho/796.jpg                 1\n",
              "425   Pho/81.jpg                 1\n",
              "426   Pho/84.jpg                 1\n",
              "427   Pho/85.jpg                 1\n",
              "428   Pho/95.jpg                 1\n",
              "429   Pho/99.jpg                 1"
            ]
          },
          "metadata": {
            "tags": []
          },
          "execution_count": 170
        }
      ]
    },
    {
      "cell_type": "code",
      "metadata": {
        "id": "JwOpaPnqxuzd"
      },
      "source": [
        "def plot_history(history, model_name = ''):\n",
        "\n",
        "    fig, axes = plt.subplots(1, 2, figsize = (15, 5))\n",
        "    \n",
        "    axes[0].plot(history.history['accuracy'], linestyle = 'solid', marker = 'o', color = 'crimson', label = 'Train')\n",
        "    axes[0].plot(history.history['val_accuracy'], linestyle = 'solid', marker = 'o', color = 'dodgerblue', label = 'Test')\n",
        "    axes[0].set_xlabel('Epochs', fontsize = 14)\n",
        "    axes[0].set_ylabel('Accuracy',fontsize = 14)\n",
        "    axes[0].set_title(model_name + ' accuracy', fontsize = 14)\n",
        "    axes[0].legend(loc = 'best')\n",
        "    \n",
        "    axes[1].plot(history.history['loss'], linestyle = 'solid', marker = 'o', color = 'crimson', label = 'Train')\n",
        "    axes[1].plot(history.history['val_loss'], linestyle = 'solid', marker = 'o', color = 'dodgerblue', label = 'Test')\n",
        "    axes[1].set_xlabel('Epochs', fontsize = 14)\n",
        "    axes[1].set_ylabel('Loss',fontsize = 14)\n",
        "    axes[1].set_title(model_name + ' loss', fontsize = 14)\n",
        "    axes[1].legend(loc = 'best')\n",
        "    \n",
        "    fig.savefig(VISUALIZE_PATH + model_name + ' evaluation.png', bbox_inches = 'tight') \n",
        "    plt.show()"
      ],
      "execution_count": 171,
      "outputs": []
    },
    {
      "cell_type": "code",
      "metadata": {
        "colab": {
          "base_uri": "https://localhost:8080/",
          "height": 355
        },
        "id": "cH7hpI2-xyEK",
        "outputId": "6a541c66-f49f-497c-b006-c6895bde55dc"
      },
      "source": [
        "plot_history(vgg16_history, 'VGG16')"
      ],
      "execution_count": 172,
      "outputs": [
        {
          "output_type": "display_data",
          "data": {
            "image/png": "[encoded data removed]",
            "text/plain": [
              "<Figure size 1080x360 with 2 Axes>"
            ]
          },
          "metadata": {
            "tags": [],
            "needs_background": "light"
          }
        }
      ]
    },
    {
      "cell_type": "code",
      "metadata": {
        "colab": {
          "base_uri": "https://localhost:8080/"
        },
        "id": "ZhSIG8avx4co",
        "outputId": "29d28894-9615-4298-df06-12d112ba729c"
      },
      "source": [
        "from sklearn.metrics import classification_report, confusion_matrix\n",
        "from sklearn.metrics import plot_confusion_matrix\n",
        "import seaborn as sns\n",
        "\n",
        "cf_matrix_vgg16 = confusion_matrix(y_test, np.argmax(y_pred_vgg16, axis=1))\n",
        "print(classification_report(y_test, np.argmax(y_pred_vgg16, axis=1)))"
      ],
      "execution_count": 182,
      "outputs": [
        {
          "output_type": "stream",
          "text": [
            "              precision    recall  f1-score   support\n",
            "\n",
            "           0       0.98      0.96      0.97       268\n",
            "           1       0.93      0.96      0.95       162\n",
            "\n",
            "    accuracy                           0.96       430\n",
            "   macro avg       0.96      0.96      0.96       430\n",
            "weighted avg       0.96      0.96      0.96       430\n",
            "\n"
          ],
          "name": "stdout"
        }
      ]
    },
    {
      "cell_type": "markdown",
      "metadata": {
        "id": "WGmaGTjgyOvP"
      },
      "source": [
        "## **3. Thử nghiệm với ảnh bất kì từ trên mạng**\n"
      ]
    },
    {
      "cell_type": "code",
      "metadata": {
        "colab": {
          "base_uri": "https://localhost:8080/"
        },
        "id": "pmllndCVyM2r",
        "outputId": "a6c1b716-461e-4165-bc56-ab1cc5f0a0df"
      },
      "source": [
        "img_test = image.load_img('/content/drive/MyDrive/COLAB_Machine Learning/Vietnames_food_Classification/banh mi.png', target_size = (WIDTH, HEIGHT))\n",
        "img_test = image.img_to_array(img_test) / 255\n",
        "img_test = np.expand_dims(img_test, axis = 0)\n",
        "img_test.shape"
      ],
      "execution_count": 224,
      "outputs": [
        {
          "output_type": "execute_result",
          "data": {
            "text/plain": [
              "(1, 224, 224, 3)"
            ]
          },
          "metadata": {
            "tags": []
          },
          "execution_count": 224
        }
      ]
    },
    {
      "cell_type": "code",
      "metadata": {
        "colab": {
          "base_uri": "https://localhost:8080/"
        },
        "id": "Wb-gfDeqQPWh",
        "outputId": "e65ea710-ca9e-47c1-818f-552217f03ae9"
      },
      "source": [
        "vgg16_model = tf.keras.models.load_model(MODELS_PATH + 'vgg16.h5')\n",
        "classes = my_model.predict(img_test)\n",
        "\n",
        "if np.argmax(classes, axis=1) == 1:\n",
        "  print('Pho')\n",
        "else:\n",
        "  print('Banh mi')"
      ],
      "execution_count": 225,
      "outputs": [
        {
          "output_type": "stream",
          "text": [
            "Banh mi\n"
          ],
          "name": "stdout"
        }
      ]
    },
    {
      "cell_type": "code",
      "metadata": {
        "colab": {
          "base_uri": "https://localhost:8080/"
        },
        "id": "itRLe38YXOpw",
        "outputId": "7deb9d4a-bc7a-47cf-b776-9f218b74a2a7"
      },
      "source": [
        "img_test = image.load_img('/content/drive/MyDrive/COLAB_Machine Learning/Vietnames_food_Classification/pho.jpg', target_size = (WIDTH, HEIGHT))\n",
        "img_test = image.img_to_array(img_test) / 255\n",
        "img_test = np.expand_dims(img_test, axis = 0)\n",
        "img_test.shape"
      ],
      "execution_count": 226,
      "outputs": [
        {
          "output_type": "execute_result",
          "data": {
            "text/plain": [
              "(1, 224, 224, 3)"
            ]
          },
          "metadata": {
            "tags": []
          },
          "execution_count": 226
        }
      ]
    },
    {
      "cell_type": "code",
      "metadata": {
        "colab": {
          "base_uri": "https://localhost:8080/"
        },
        "id": "c78Pn4R1XEXx",
        "outputId": "f28625d3-e10f-4722-ed95-835216472dc0"
      },
      "source": [
        "vgg16_model = tf.keras.models.load_model(MODELS_PATH + 'vgg16.h5')\n",
        "classes = my_model.predict(img_test)\n",
        "\n",
        "if np.argmax(classes, axis=1) == 1:\n",
        "  print('Pho')\n",
        "else:\n",
        "  print('Banh mi')"
      ],
      "execution_count": 227,
      "outputs": [
        {
          "output_type": "stream",
          "text": [
            "Pho\n"
          ],
          "name": "stdout"
        }
      ]
    }
  ]
}